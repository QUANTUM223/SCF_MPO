{
 "cells": [
  {
   "cell_type": "code",
   "execution_count": null,
   "id": "554088a8",
   "metadata": {},
   "outputs": [],
   "source": [
    "using ITensors: MPO, MPS, OpSum, expect, inner, siteinds \n",
    "using ITensors\n",
    "using ITensorMPS\n",
    "using Plots\n",
    "using QuanticsTCI\n",
    "import TensorCrossInterpolation as TCI\n",
    "using Quantics\n",
    "using HDF5 \n",
    "\n",
    "include(\"get_functions.jl\")"
   ]
  },
  {
   "cell_type": "code",
   "execution_count": null,
   "id": "3e808cca",
   "metadata": {},
   "outputs": [],
   "source": [
    "L = 30\n",
    "num_frag = 70\n",
    "N = 250\n",
    "\n",
    "f = h5open(\"template_mps.h5\",\"r\")\n",
    "templ = read(f,\"template_mps\",MPS)\n",
    "close(f)\n",
    "\n",
    "ini_rand = templ;\n",
    "sites = siteinds(ini_rand);"
   ]
  },
  {
   "cell_type": "code",
   "execution_count": null,
   "id": "785b42af",
   "metadata": {},
   "outputs": [],
   "source": [
    "#we put one example here\n",
    "#they should be the tn saved form SCF and random vectors saved from random_vec_generator\n",
    "mus_up =  get_mus_combine(\"tn_billion_250cheby_U_5_up\",\"random_vec_70slice_200sample\", sites, L, num_frag, N);\n",
    "mus_down =  get_mus_combine(\"tn_billion_250cheby_U_5_down\",\"random_vec_70slice_200sample\", sites, L, num_frag, N);\n",
    "\n",
    "#for smaller moire scale, num_frag by default is 100\n",
    "\"\"\"\n",
    "mus_up =  get_mus_small(\"tn_billion_250cheby_U_domain_5_up\", sites, L, N);\n",
    "mus_down =  get_mus_small(\"tn_billion_250cheby_U_domain_5_down\", sites, L,  N);\n",
    "\"\"\""
   ]
  },
  {
   "cell_type": "code",
   "execution_count": null,
   "id": "26de7cc9",
   "metadata": {},
   "outputs": [],
   "source": [
    "ldos_tot = get_ldos(mus_up,mus_down,num_frag,250);"
   ]
  },
  {
   "cell_type": "code",
   "execution_count": null,
   "id": "7e54c11e",
   "metadata": {},
   "outputs": [],
   "source": [
    "h5open(\"billion_200cheby_domain_diag_up_5.h5\", \"w\") do file\n",
    "    write(file, \"ldos\", ldos_tot)\n",
    "end"
   ]
  }
 ],
 "metadata": {
  "kernelspec": {
   "display_name": "Julia 1.11.2",
   "language": "julia",
   "name": "julia-1.11"
  },
  "language_info": {
   "file_extension": ".jl",
   "mimetype": "application/julia",
   "name": "julia",
   "version": "1.11.2"
  }
 },
 "nbformat": 4,
 "nbformat_minor": 5
}
