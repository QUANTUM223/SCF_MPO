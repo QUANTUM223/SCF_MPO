{
 "cells": [
  {
   "cell_type": "code",
   "execution_count": null,
   "id": "8e05e70d",
   "metadata": {},
   "outputs": [],
   "source": [
    "#notice we use parallel computation for generation of random vectors\n",
    "using ITensors: MPO, MPS, OpSum, expect, inner, siteinds \n",
    "using ITensors\n",
    "using ITensorMPS\n",
    "using HDF5\n",
    " \n",
    "include(\"MPO_SCF_normal.jl\")\n",
    "include(\"get_functions.jl\")"
   ]
  },
  {
   "cell_type": "code",
   "execution_count": null,
   "id": "068bec7e",
   "metadata": {},
   "outputs": [],
   "source": [
    "L = 30\n",
    "f = h5open(\"template_mps.h5\",\"r\")\n",
    "templ = read(f,\"template_mps\",MPS)\n",
    "close(f)\n",
    " \n",
    "ini_rand = templ;\n",
    "sites = siteinds(ini_rand);"
   ]
  },
  {
   "cell_type": "code",
   "execution_count": null,
   "id": "c07e2388",
   "metadata": {},
   "outputs": [],
   "source": [
    "#number of rounds of picking random numbers, set to 1 for large systems\n",
    "num_r = 1\n",
    "num_frag = 70\n",
    " \n",
    "mps_list = generate_mps_list(2^L, L, num_frag, sites,num_r,200  );"
   ]
  },
  {
   "cell_type": "code",
   "execution_count": null,
   "id": "a50c83fd",
   "metadata": {},
   "outputs": [],
   "source": [
    "folder_name = \"random_vec_70slice_200sample\"\n",
    "if !isdir(folder_name)\n",
    "    mkdir(folder_name)\n",
    "    println(\"folder '$folder_name' is created\")\n",
    "else\n",
    "    println(\"folder '$folder_name' exists\")\n",
    "end\n",
    "\n",
    " \n",
    "\n",
    " \n",
    "for (i, rand_vec) in enumerate(mps_list)\n",
    "     \n",
    "    file_path = joinpath(folder_name, \"myfile_$i.h5\")\n",
    "   \n",
    "    h5open(file_path, \"w\") do f\n",
    "        write(f, \"random_vec\", rand_vec[1])\n",
    "    end\n",
    " \n",
    "end"
   ]
  }
 ],
 "metadata": {
  "kernelspec": {
   "display_name": "Julia 1.11.2",
   "language": "julia",
   "name": "julia-1.11"
  },
  "language_info": {
   "file_extension": ".jl",
   "mimetype": "application/julia",
   "name": "julia",
   "version": "1.11.2"
  }
 },
 "nbformat": 4,
 "nbformat_minor": 5
}
